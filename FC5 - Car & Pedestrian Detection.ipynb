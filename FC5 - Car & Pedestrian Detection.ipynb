{
    "metadata": {
        "kernelspec": {
            "name": "python3",
            "display_name": "Python 3"
        },
        "language_info": {
            "name": "python",
            "version": "3.8.3",
            "mimetype": "text/x-python",
            "codemirror_mode": {
                "name": "ipython",
                "version": 3
            },
            "pygments_lexer": "ipython3",
            "nbconvert_exporter": "python",
            "file_extension": ".py"
        }
    },
    "nbformat_minor": 2,
    "nbformat": 4,
    "cells": [
        {
            "cell_type": "markdown",
            "source": [
                "## Car & Pedestrian Detection\n",
                "\n"
            ],
            "metadata": {
                "azdata_cell_guid": "6892765e-8c4f-4ae9-a5fd-2d9015a9e68c"
            }
        },
        {
            "cell_type": "markdown",
            "source": [
                "### Pedistrian Detection"
            ],
            "metadata": {
                "azdata_cell_guid": "1b981bb0-9337-44d3-9394-9f8b919fd3e3"
            }
        },
        {
            "cell_type": "code",
            "source": [
                "import cv2\n",
                "import numpy as np\n",
                "\n",
                "# Create our body classifier\n",
                "body_classifier = cv2.CascadeClassifier(r'/Users/kishhanraaj/Downloads/Computer-Vision-Tutorial-master/Haarcascades/haarcascade_fullbody.xml')\n",
                "\n",
                "# Initiate video capture for video file\n",
                "cap = cv2.VideoCapture('image_examples/walking.avi')\n",
                "\n",
                "# Loop once video is successfully loaded\n",
                "while cap.isOpened():\n",
                "    \n",
                "    # Read first frame\n",
                "    ret, frame = cap.read()\n",
                "    #frame = cv2.resize(frame, None,fx=0.5, fy=0.5, interpolation = cv2.INTER_LINEAR)\n",
                "\n",
                "    gray = cv2.cvtColor(frame, cv2.COLOR_BGR2GRAY)\n",
                "    # Pass frame to our body classifier\n",
                "    bodies = body_classifier.detectMultiScale(gray, 1.2, 3)\n",
                "    \n",
                "    # Extract bounding boxes for any bodies identified\n",
                "    for (x,y,w,h) in bodies:\n",
                "        cv2.rectangle(frame, (x, y), (x+w, y+h), (0, 255, 255), 2)\n",
                "        cv2.imshow('Pedestrians', frame)\n",
                "\n",
                "    if cv2.waitKey(1) == 13: #13 is the Enter Key\n",
                "        break\n",
                "\n",
                "cap.release()\n",
                "cv2.destroyAllWindows()"
            ],
            "metadata": {
                "azdata_cell_guid": "baaefbe1-7857-4461-90e4-9b147b7fb3d1"
            },
            "outputs": [
                {
                    "output_type": "error",
                    "ename": "error",
                    "evalue": "OpenCV(4.4.0) /private/var/folders/nz/vv4_9tw56nv9k3tkvyszvwg80000gn/T/pip-req-build-czkpurnv/opencv/modules/imgproc/src/color.cpp:182: error: (-215:Assertion failed) !_src.empty() in function 'cvtColor'\n",
                    "traceback": [
                        "\u001b[0;31m---------------------------------------------------------------------------\u001b[0m",
                        "\u001b[0;31merror\u001b[0m                                     Traceback (most recent call last)",
                        "\u001b[0;32m<ipython-input-1-99b7f15a0b5e>\u001b[0m in \u001b[0;36m<module>\u001b[0;34m\u001b[0m\n\u001b[1;32m     15\u001b[0m     \u001b[0;31m#frame = cv2.resize(frame, None,fx=0.5, fy=0.5, interpolation = cv2.INTER_LINEAR)\u001b[0m\u001b[0;34m\u001b[0m\u001b[0;34m\u001b[0m\u001b[0;34m\u001b[0m\u001b[0m\n\u001b[1;32m     16\u001b[0m \u001b[0;34m\u001b[0m\u001b[0m\n\u001b[0;32m---> 17\u001b[0;31m     \u001b[0mgray\u001b[0m \u001b[0;34m=\u001b[0m \u001b[0mcv2\u001b[0m\u001b[0;34m.\u001b[0m\u001b[0mcvtColor\u001b[0m\u001b[0;34m(\u001b[0m\u001b[0mframe\u001b[0m\u001b[0;34m,\u001b[0m \u001b[0mcv2\u001b[0m\u001b[0;34m.\u001b[0m\u001b[0mCOLOR_BGR2GRAY\u001b[0m\u001b[0;34m)\u001b[0m\u001b[0;34m\u001b[0m\u001b[0;34m\u001b[0m\u001b[0m\n\u001b[0m\u001b[1;32m     18\u001b[0m     \u001b[0;31m# Pass frame to our body classifier\u001b[0m\u001b[0;34m\u001b[0m\u001b[0;34m\u001b[0m\u001b[0;34m\u001b[0m\u001b[0m\n\u001b[1;32m     19\u001b[0m     \u001b[0mbodies\u001b[0m \u001b[0;34m=\u001b[0m \u001b[0mbody_classifier\u001b[0m\u001b[0;34m.\u001b[0m\u001b[0mdetectMultiScale\u001b[0m\u001b[0;34m(\u001b[0m\u001b[0mgray\u001b[0m\u001b[0;34m,\u001b[0m \u001b[0;36m1.2\u001b[0m\u001b[0;34m,\u001b[0m \u001b[0;36m3\u001b[0m\u001b[0;34m)\u001b[0m\u001b[0;34m\u001b[0m\u001b[0;34m\u001b[0m\u001b[0m\n",
                        "\u001b[0;31merror\u001b[0m: OpenCV(4.4.0) /private/var/folders/nz/vv4_9tw56nv9k3tkvyszvwg80000gn/T/pip-req-build-czkpurnv/opencv/modules/imgproc/src/color.cpp:182: error: (-215:Assertion failed) !_src.empty() in function 'cvtColor'\n"
                    ]
                }
            ],
            "execution_count": 1
        },
        {
            "cell_type": "markdown",
            "source": [
                "### Car Detection\n"
            ],
            "metadata": {
                "azdata_cell_guid": "1a9e8a76-c349-4857-8cc8-474fd81f6305"
            }
        },
        {
            "cell_type": "code",
            "source": [
                "import cv2\n",
                "import time\n",
                "import numpy as np\n",
                "\n",
                "# Create our body classifier\n",
                "car_classifier = cv2.CascadeClassifier(r'/Users/kishhanraaj/Downloads/Computer-Vision-Tutorial-master/Haarcascades/haarcascade_car.xml')\n",
                "\n",
                "# Initiate video capture for video file\n",
                "cap = cv2.VideoCapture('image_examples/cars.avi')\n",
                "\n",
                "\n",
                "# Loop once video is successfully loaded\n",
                "while cap.isOpened():\n",
                "    \n",
                "    time.sleep(.05)\n",
                "    # Read first frame\n",
                "    ret, frame = cap.read()\n",
                "    gray = cv2.cvtColor(frame, cv2.COLOR_BGR2GRAY)\n",
                "   \n",
                "    # Pass frame to our car classifier\n",
                "    cars = car_classifier.detectMultiScale(gray, 1.3, 2)\n",
                "    \n",
                "    # Extract bounding boxes for any bodies identified\n",
                "    for (x,y,w,h) in cars:\n",
                "        cv2.rectangle(frame, (x, y), (x+w, y+h), (0, 255, 255), 2)\n",
                "        cv2.imshow('Cars', frame)\n",
                "\n",
                "    if cv2.waitKey(1) == 13: #13 is the Enter Key\n",
                "        break\n",
                "\n",
                "cap.release()\n",
                "cv2.destroyAllWindows()"
            ],
            "metadata": {
                "azdata_cell_guid": "4079165d-ca61-48ed-9ebd-7dada4da9682"
            },
            "outputs": [
                {
                    "output_type": "error",
                    "ename": "error",
                    "evalue": "OpenCV(4.4.0) /private/var/folders/nz/vv4_9tw56nv9k3tkvyszvwg80000gn/T/pip-req-build-czkpurnv/opencv/modules/imgproc/src/color.cpp:182: error: (-215:Assertion failed) !_src.empty() in function 'cvtColor'\n",
                    "traceback": [
                        "\u001b[0;31m---------------------------------------------------------------------------\u001b[0m",
                        "\u001b[0;31merror\u001b[0m                                     Traceback (most recent call last)",
                        "\u001b[0;32m<ipython-input-2-f478f056ecb4>\u001b[0m in \u001b[0;36m<module>\u001b[0;34m\u001b[0m\n\u001b[1;32m     16\u001b[0m     \u001b[0;31m# Read first frame\u001b[0m\u001b[0;34m\u001b[0m\u001b[0;34m\u001b[0m\u001b[0;34m\u001b[0m\u001b[0m\n\u001b[1;32m     17\u001b[0m     \u001b[0mret\u001b[0m\u001b[0;34m,\u001b[0m \u001b[0mframe\u001b[0m \u001b[0;34m=\u001b[0m \u001b[0mcap\u001b[0m\u001b[0;34m.\u001b[0m\u001b[0mread\u001b[0m\u001b[0;34m(\u001b[0m\u001b[0;34m)\u001b[0m\u001b[0;34m\u001b[0m\u001b[0;34m\u001b[0m\u001b[0m\n\u001b[0;32m---> 18\u001b[0;31m     \u001b[0mgray\u001b[0m \u001b[0;34m=\u001b[0m \u001b[0mcv2\u001b[0m\u001b[0;34m.\u001b[0m\u001b[0mcvtColor\u001b[0m\u001b[0;34m(\u001b[0m\u001b[0mframe\u001b[0m\u001b[0;34m,\u001b[0m \u001b[0mcv2\u001b[0m\u001b[0;34m.\u001b[0m\u001b[0mCOLOR_BGR2GRAY\u001b[0m\u001b[0;34m)\u001b[0m\u001b[0;34m\u001b[0m\u001b[0;34m\u001b[0m\u001b[0m\n\u001b[0m\u001b[1;32m     19\u001b[0m \u001b[0;34m\u001b[0m\u001b[0m\n\u001b[1;32m     20\u001b[0m     \u001b[0;31m# Pass frame to our car classifier\u001b[0m\u001b[0;34m\u001b[0m\u001b[0;34m\u001b[0m\u001b[0;34m\u001b[0m\u001b[0m\n",
                        "\u001b[0;31merror\u001b[0m: OpenCV(4.4.0) /private/var/folders/nz/vv4_9tw56nv9k3tkvyszvwg80000gn/T/pip-req-build-czkpurnv/opencv/modules/imgproc/src/color.cpp:182: error: (-215:Assertion failed) !_src.empty() in function 'cvtColor'\n"
                    ]
                }
            ],
            "execution_count": 2
        },
        {
            "cell_type": "markdown",
            "source": [
                "- **Full Body / Pedestrian Classifier ** - https://github.com/opencv/opencv/blob/master/data/haarcascades/haarcascade_fullbody.xml\n",
                "- **Car Classifier ** - http://www.codeforge.com/read/241845/cars3.xml__html\n"
            ],
            "metadata": {
                "azdata_cell_guid": "44b82039-e84c-4db5-ad11-d0507f8c6e48"
            }
        }
    ]
}