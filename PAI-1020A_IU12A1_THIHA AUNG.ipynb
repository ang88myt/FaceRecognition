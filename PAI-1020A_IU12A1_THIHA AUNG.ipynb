{
    "metadata": {
        "kernelspec": {
            "name": "Python 3.9.0 64-bit",
            "display_name": "Python 3.9.0 64-bit",
            "metadata": {
                "interpreter": {
                    "hash": "2e97e574d3aa8b5a6b22ffda2b8f513d0ad2445660a2311eacf99fa0458adead"
                }
            }
        },
        "language_info": {
            "name": "python",
            "version": "3.9.0-final",
            "mimetype": "text/x-python",
            "codemirror_mode": {
                "name": "ipython",
                "version": 3
            },
            "pygments_lexer": "ipython3",
            "nbconvert_exporter": "python",
            "file_extension": ".py"
        }
    },
    "nbformat_minor": 2,
    "nbformat": 4,
    "cells": [
        {
            "cell_type": "code",
            "source": [
                "import numpy as np\n",
                "import cv2\n",
                "\n",
                "# Global variables\n",
                "canvas = np.ones([500,500,3],'uint8')*255\n",
                "radius = 3\n",
                "color = (0,255,0)\n",
                "pressed = False\n",
                "\n",
                "# click callback\n",
                "def click(event, x, y, flags, param):\n",
                "\tglobal canvas, pressed\n",
                "\tif event == cv2.EVENT_LBUTTONDOWN:\n",
                "\t\tpressed = True\n",
                "\t\tcv2.circle(canvas,(x,y),radius,color,-1)\n",
                "\telif event == cv2.EVENT_MOUSEMOVE and pressed == True:\n",
                "\t\tcv2.circle(canvas,(x,y),radius,color,-1)\n",
                "\telif event == cv2.EVENT_LBUTTONUP:\n",
                "\t\tpressed = False\n",
                "\n",
                "# window initialization and callback assignment\n",
                "cv2.namedWindow(\"canvas\")\n",
                "cv2.setMouseCallback(\"canvas\", click)\n",
                "\n",
                "# Forever draw loop\n",
                "while True:\n",
                "\n",
                "\tcv2.imshow(\"canvas\",canvas)\n",
                "\n",
                "\t# key capture every 1ms\n",
                "\tch = cv2.waitKey(1)\n",
                "\tif ch & 0xFF == ord('q'):\n",
                "\t\tbreak\n",
                "\telif ch & 0xFF == ord('b'):\n",
                "\t\tcolor = (255,0,0)\n",
                "\telif ch & 0xFF == ord('g'):\n",
                "\t\tcolor = (0,255,0)\n",
                "\telif ch & 0xFF == ord('r'):\n",
                "\t\tcolor = (0,0,255)\n",
                "\t\n",
                "\n",
                "cv2.destroyAllWindows()"
            ],
            "metadata": {
                "azdata_cell_guid": "a9983024-2e01-44ad-b6b6-4c8cc246fea0"
            },
            "outputs": [],
            "execution_count": 1
        },
        {
            "cell_type": "code",
            "execution_count": null,
            "metadata": {},
            "outputs": [],
            "source": []
        }
    ]
}