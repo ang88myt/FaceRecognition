{
    "metadata": {
        "kernelspec": {
            "name": "python3",
            "display_name": "Python 3"
        },
        "language_info": {
            "name": "python",
            "version": "3.8.3",
            "mimetype": "text/x-python",
            "codemirror_mode": {
                "name": "ipython",
                "version": 3
            },
            "pygments_lexer": "ipython3",
            "nbconvert_exporter": "python",
            "file_extension": ".py"
        }
    },
    "nbformat_minor": 2,
    "nbformat": 4,
    "cells": [
        {
            "cell_type": "markdown",
            "source": [
                "## Face and Eye Detection  from videos\n"
            ],
            "metadata": {
                "azdata_cell_guid": "6259de77-93fe-4f37-9cdb-84704f8f27c9"
            }
        },
        {
            "cell_type": "code",
            "source": [
                "# Face Recognition\n",
                "\n",
                "# Importing the libraries\n",
                "import cv2\n",
                "\n",
                "# Loading the cascades\n",
                "face_cascade = cv2.CascadeClassifier(r'/Users/kishhanraaj/Downloads/Computer-Vision-Tutorial-master/Haarcascades/haarcascade_frontalface_default.xml')\n",
                "eye_cascade = cv2.CascadeClassifier(r'/Users/kishhanraaj/Downloads/Computer-Vision-Tutorial-master/Haarcascades/haarcascade_eye.xml')\n",
                "\n",
                "# Defining a function that will do the detections\n",
                "def detect(gray, frame):\n",
                "    faces = face_cascade.detectMultiScale(gray, 1.3, 5)\n",
                "    for (x, y, w, h) in faces:\n",
                "        cv2.rectangle(frame, (x, y), (x+w, y+h), (255, 0, 0), 2)\n",
                "        roi_gray = gray[y:y+h, x:x+w]\n",
                "        roi_color = frame[y:y+h, x:x+w]\n",
                "        eyes = eye_cascade.detectMultiScale(roi_gray, 1.1, 3)\n",
                "        for (ex, ey, ew, eh) in eyes:\n",
                "            cv2.rectangle(roi_color, (ex, ey), (ex+ew, ey+eh), (0, 255, 0), 2)\n",
                "    return frame\n",
                "\n",
                "# Doing some Face Recognition with the webcam\n",
                "video_capture = cv2.VideoCapture(0)\n",
                "while True:\n",
                "    _, frame = video_capture.read()\n",
                "    gray = cv2.cvtColor(frame, cv2.COLOR_BGR2GRAY)\n",
                "    canvas = detect(gray, frame)\n",
                "    cv2.imshow('Video', canvas)\n",
                "    if cv2.waitKey(1) & 0xFF == ord('q'):\n",
                "        break\n",
                "video_capture.release()\n",
                "cv2.destroyAllWindows()"
            ],
            "metadata": {
                "azdata_cell_guid": "c232f717-167a-4524-8d18-b800145d129e"
            },
            "outputs": [],
            "execution_count": null
        },
        {
            "cell_type": "code",
            "source": [],
            "metadata": {
                "azdata_cell_guid": "db0be688-3f36-4378-811e-f44007855e5c"
            },
            "outputs": [],
            "execution_count": null
        }
    ]
}