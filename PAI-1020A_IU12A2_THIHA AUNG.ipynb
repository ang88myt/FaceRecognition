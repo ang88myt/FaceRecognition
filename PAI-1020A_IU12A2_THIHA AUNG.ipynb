{
    "metadata": {
        "kernelspec": {
            "name": "python3",
            "display_name": "Python 3"
        },
        "language_info": {
            "name": "python",
            "version": "3.8.3",
            "mimetype": "text/x-python",
            "codemirror_mode": {
                "name": "ipython",
                "version": 3
            },
            "pygments_lexer": "ipython3",
            "nbconvert_exporter": "python",
            "file_extension": ".py"
        }
    },
    "nbformat_minor": 2,
    "nbformat": 4,
    "cells": [
        {
            "cell_type": "code",
            "source": [
                "\n",
                "import cv2\n",
                "import numpy as np\n",
                "\n",
                "img = cv2.imread(\"/Users/kishhanraaj/Downloads/Ex_Files_OpenCV_Python_Dev-3/Exercise Files/Ch04/04_07 Solution/faces.jpeg\",1)\n",
                "gray = cv2.cvtColor(img, cv2.COLOR_BGR2GRAY)\n",
                "path = \"/Users/kishhanraaj/Downloads/Ex_Files_OpenCV_Python_Dev-3/Exercise Files/Ch04/04_06 Begin/haarcascade_eye.xml\"\n",
                "\n",
                "eye_cascade = cv2.CascadeClassifier(path)\n",
                "\n",
                "eyes = eye_cascade.detectMultiScale(gray, scaleFactor=1.2,minNeighbors=20,minSize=(10,10))\n",
                "print(len(eyes))\n",
                "\n",
                "for (x, y, w, h) in eyes:\n",
                "\txc = (x + x+w)/2\n",
                "\tyc = (y + y+h)/2\n",
                "\tradius = w/2\n",
                "\tcv2.circle(img, (int(xc),int(yc)), int(radius), (255,0,0), 2)\n",
                "cv2.imshow(\"Eyes\",img)\n",
                "cv2.waitKey(0)\n",
                "cv2.destroyAllWindows()"
            ],
            "metadata": {
                "azdata_cell_guid": "21572d7b-95ce-474b-8e4b-1a8178192828"
            },
            "outputs": [],
            "execution_count": null
        }
    ]
}